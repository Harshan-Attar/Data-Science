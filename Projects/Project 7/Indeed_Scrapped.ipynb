{
 "cells": [
  {
   "cell_type": "markdown",
   "id": "GQ6XeTnWmNzd",
   "metadata": {
    "id": "GQ6XeTnWmNzd"
   },
   "source": [
    "## Indeed Job Data Extractor: Web Scraping Job Positions, Locations, and Company Names"
   ]
  },
  {
   "cell_type": "markdown",
   "id": "5sIazeVxmRxK",
   "metadata": {
    "id": "5sIazeVxmRxK"
   },
   "source": [
    "### Harshan Attar"
   ]
  },
  {
   "cell_type": "code",
   "execution_count": 1,
   "id": "a2c35d1a",
   "metadata": {
    "id": "a2c35d1a"
   },
   "outputs": [],
   "source": [
    "import requests\n",
    "import selenium\n",
    "from selenium import webdriver\n",
    "from bs4 import BeautifulSoup\n",
    "import pandas as pd\n",
    "import time\n",
    "import warnings\n",
    "warnings.filterwarnings('ignore')\n",
    "\n",
    "\n",
    "\n",
    "\n",
    "def get_url(position,location):\n",
    "    position = position.replace(' ','+')\n",
    "    location = location.replace(' ','+')\n",
    "    temp = 'https://in.indeed.com/jobs?q={}&l={}'\n",
    "    url = temp.format(position,location)\n",
    "    return url\n",
    "\n",
    "\n",
    "\n",
    "\n",
    "def get_job(card):\n",
    "    try:\n",
    "        job_namee = card.find('h2', 'jobTitle css-4ukq4m eu4oa1w0').text\n",
    "    except:\n",
    "        job_namee = 'not mentioned'\n",
    "    try:\n",
    "        company_name = card.find('span', 'css-1x7z1ps eu4oa1w0').text\n",
    "    except:\n",
    "        company_name = 'not mentioned'\n",
    "    try:\n",
    "        company_loc = card.find('div', 'css-t4u72d eu4oa1w0').text\n",
    "    except:\n",
    "        company_loc = 'not mentioned'\n",
    "    try:\n",
    "        info = []\n",
    "        job_details = card.find('div', 'metadata css-1ihavw2 eu4oa1w0').text\n",
    "        for i in job_details:\n",
    "            info.append(i.text)\n",
    "        details = \",\".join(str(element) for element in info)\n",
    "    except:\n",
    "        details = 'not mentioned'\n",
    "    try:\n",
    "        job_sumy = card.find('div', 'css-146u2z1 eu4oa1w0').text\n",
    "    except:\n",
    "        job_sumy = 'not mentioned'\n",
    "    try:\n",
    "        job_link = card.find('a', 'jcs-JobTitle css-jspxzf eu4oa1w0')\n",
    "        job_link = 'https://in.indeed.com' + job_link['href']\n",
    "    except:\n",
    "        job_link = 'not mentioned'\n",
    "\n",
    "    job_info = (job_namee, company_name, company_loc, details, job_sumy, job_link)\n",
    "\n",
    "    return job_info\n",
    "\n",
    "\n",
    "def main(position , location):\n",
    "    records = []\n",
    "    url = get_url(position,location)\n",
    "\n",
    "    driver = webdriver.Firefox()\n",
    "    driver.get(url)\n",
    "    driver.maximize_window()\n",
    "    time.sleep(10)\n",
    "\n",
    "    soup = BeautifulSoup(driver.page_source,'html.parser')\n",
    "    #total number of cards\n",
    "    cards = soup.find_all('li','css-5lfssm eu4oa1w0')\n",
    "\n",
    "    records = []\n",
    "\n",
    "    for everycards in cards:\n",
    "        jobdetails = get_job(cards)\n",
    "        records.append(jobdetails)\n",
    "\n",
    "    col = ['job_namee','company_name','company_loc','job_details','job_sumy','job_link']\n",
    "    indeedweb = pd.DataFrame(records,columns=col)\n",
    "    indeedweb.to_csv(r'C:\\Users\\Harshan Attar\\Desktop\\iGurus Practice\\Project 7\\indeed_jobs.csv', encoding='utf-8')"
   ]
  },
  {
   "cell_type": "code",
   "execution_count": null,
   "id": "272c0714-3b7e-4b6f-b87e-f144a4ad36c5",
   "metadata": {},
   "outputs": [],
   "source": [
    "# The class name of the div tags change dinamically over time. So the above mentioned code will run only for this instance. The .csv file is attached for reference in the github repo."
   ]
  },
  {
   "cell_type": "code",
   "execution_count": 2,
   "id": "6115bb9e",
   "metadata": {
    "id": "6115bb9e"
   },
   "outputs": [],
   "source": [
    "main('python','pune')"
   ]
  }
 ],
 "metadata": {
  "colab": {
   "provenance": []
  },
  "kernelspec": {
   "display_name": "Python 3 (ipykernel)",
   "language": "python",
   "name": "python3"
  },
  "language_info": {
   "codemirror_mode": {
    "name": "ipython",
    "version": 3
   },
   "file_extension": ".py",
   "mimetype": "text/x-python",
   "name": "python",
   "nbconvert_exporter": "python",
   "pygments_lexer": "ipython3",
   "version": "3.12.1"
  }
 },
 "nbformat": 4,
 "nbformat_minor": 5
}
