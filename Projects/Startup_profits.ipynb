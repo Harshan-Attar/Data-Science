{
  "nbformat": 4,
  "nbformat_minor": 0,
  "metadata": {
    "colab": {
      "provenance": []
    },
    "kernelspec": {
      "name": "python3",
      "display_name": "Python 3"
    },
    "language_info": {
      "name": "python"
    }
  },
  "cells": [
    {
      "cell_type": "markdown",
      "source": [
        "## **Profit Prediction for Startups Using Multiple Linear Regression**\n",
        "<br>\n",
        "\n",
        "### Harshan Attar"
      ],
      "metadata": {
        "id": "3r43eSUps-m4"
      }
    },
    {
      "cell_type": "code",
      "execution_count": 27,
      "metadata": {
        "id": "AKP6N1SaCUlj"
      },
      "outputs": [],
      "source": [
        "# Supervised Machine Learning --> # Regression --> : Multivariate / Multiple Linear Regression\n",
        "\n",
        "#Importing the libraries\n",
        "import numpy as np\n",
        "import pandas as pd"
      ]
    },
    {
      "cell_type": "code",
      "source": [
        "# Loading The Dataset\n",
        "data = pd.read_csv('https://raw.githubusercontent.com/yash240990/Python/master/Startups_Data.csv')\n",
        "data.head(10)"
      ],
      "metadata": {
        "colab": {
          "base_uri": "https://localhost:8080/",
          "height": 363
        },
        "id": "Wk7lxKTyvRr2",
        "outputId": "9d47b0e7-bf5a-4980-f3e6-2c4768b64d14"
      },
      "execution_count": 28,
      "outputs": [
        {
          "output_type": "execute_result",
          "data": {
            "text/plain": [
              "   R&D Spend  Administration  Marketing Spend       State     Profit\n",
              "0  165349.20       136897.80        471784.10    New York  192261.83\n",
              "1  162597.70       151377.59        443898.53  California  191792.06\n",
              "2  153441.51       101145.55        407934.54     Florida  191050.39\n",
              "3  144372.41       118671.85        383199.62    New York  182901.99\n",
              "4  142107.34        91391.77        366168.42     Florida  166187.94\n",
              "5  131876.90        99814.71        362861.36    New York  156991.12\n",
              "6  134615.46       147198.87        127716.82  California  156122.51\n",
              "7  130298.13       145530.06        323876.68     Florida  155752.60\n",
              "8  120542.52       148718.95        311613.29    New York  152211.77\n",
              "9  123334.88       108679.17        304981.62  California  149759.96"
            ],
            "text/html": [
              "\n",
              "  <div id=\"df-ab18db11-c149-4cd4-b3a2-5ba4d0f61d2c\" class=\"colab-df-container\">\n",
              "    <div>\n",
              "<style scoped>\n",
              "    .dataframe tbody tr th:only-of-type {\n",
              "        vertical-align: middle;\n",
              "    }\n",
              "\n",
              "    .dataframe tbody tr th {\n",
              "        vertical-align: top;\n",
              "    }\n",
              "\n",
              "    .dataframe thead th {\n",
              "        text-align: right;\n",
              "    }\n",
              "</style>\n",
              "<table border=\"1\" class=\"dataframe\">\n",
              "  <thead>\n",
              "    <tr style=\"text-align: right;\">\n",
              "      <th></th>\n",
              "      <th>R&amp;D Spend</th>\n",
              "      <th>Administration</th>\n",
              "      <th>Marketing Spend</th>\n",
              "      <th>State</th>\n",
              "      <th>Profit</th>\n",
              "    </tr>\n",
              "  </thead>\n",
              "  <tbody>\n",
              "    <tr>\n",
              "      <th>0</th>\n",
              "      <td>165349.20</td>\n",
              "      <td>136897.80</td>\n",
              "      <td>471784.10</td>\n",
              "      <td>New York</td>\n",
              "      <td>192261.83</td>\n",
              "    </tr>\n",
              "    <tr>\n",
              "      <th>1</th>\n",
              "      <td>162597.70</td>\n",
              "      <td>151377.59</td>\n",
              "      <td>443898.53</td>\n",
              "      <td>California</td>\n",
              "      <td>191792.06</td>\n",
              "    </tr>\n",
              "    <tr>\n",
              "      <th>2</th>\n",
              "      <td>153441.51</td>\n",
              "      <td>101145.55</td>\n",
              "      <td>407934.54</td>\n",
              "      <td>Florida</td>\n",
              "      <td>191050.39</td>\n",
              "    </tr>\n",
              "    <tr>\n",
              "      <th>3</th>\n",
              "      <td>144372.41</td>\n",
              "      <td>118671.85</td>\n",
              "      <td>383199.62</td>\n",
              "      <td>New York</td>\n",
              "      <td>182901.99</td>\n",
              "    </tr>\n",
              "    <tr>\n",
              "      <th>4</th>\n",
              "      <td>142107.34</td>\n",
              "      <td>91391.77</td>\n",
              "      <td>366168.42</td>\n",
              "      <td>Florida</td>\n",
              "      <td>166187.94</td>\n",
              "    </tr>\n",
              "    <tr>\n",
              "      <th>5</th>\n",
              "      <td>131876.90</td>\n",
              "      <td>99814.71</td>\n",
              "      <td>362861.36</td>\n",
              "      <td>New York</td>\n",
              "      <td>156991.12</td>\n",
              "    </tr>\n",
              "    <tr>\n",
              "      <th>6</th>\n",
              "      <td>134615.46</td>\n",
              "      <td>147198.87</td>\n",
              "      <td>127716.82</td>\n",
              "      <td>California</td>\n",
              "      <td>156122.51</td>\n",
              "    </tr>\n",
              "    <tr>\n",
              "      <th>7</th>\n",
              "      <td>130298.13</td>\n",
              "      <td>145530.06</td>\n",
              "      <td>323876.68</td>\n",
              "      <td>Florida</td>\n",
              "      <td>155752.60</td>\n",
              "    </tr>\n",
              "    <tr>\n",
              "      <th>8</th>\n",
              "      <td>120542.52</td>\n",
              "      <td>148718.95</td>\n",
              "      <td>311613.29</td>\n",
              "      <td>New York</td>\n",
              "      <td>152211.77</td>\n",
              "    </tr>\n",
              "    <tr>\n",
              "      <th>9</th>\n",
              "      <td>123334.88</td>\n",
              "      <td>108679.17</td>\n",
              "      <td>304981.62</td>\n",
              "      <td>California</td>\n",
              "      <td>149759.96</td>\n",
              "    </tr>\n",
              "  </tbody>\n",
              "</table>\n",
              "</div>\n",
              "    <div class=\"colab-df-buttons\">\n",
              "\n",
              "  <div class=\"colab-df-container\">\n",
              "    <button class=\"colab-df-convert\" onclick=\"convertToInteractive('df-ab18db11-c149-4cd4-b3a2-5ba4d0f61d2c')\"\n",
              "            title=\"Convert this dataframe to an interactive table.\"\n",
              "            style=\"display:none;\">\n",
              "\n",
              "  <svg xmlns=\"http://www.w3.org/2000/svg\" height=\"24px\" viewBox=\"0 -960 960 960\">\n",
              "    <path d=\"M120-120v-720h720v720H120Zm60-500h600v-160H180v160Zm220 220h160v-160H400v160Zm0 220h160v-160H400v160ZM180-400h160v-160H180v160Zm440 0h160v-160H620v160ZM180-180h160v-160H180v160Zm440 0h160v-160H620v160Z\"/>\n",
              "  </svg>\n",
              "    </button>\n",
              "\n",
              "  <style>\n",
              "    .colab-df-container {\n",
              "      display:flex;\n",
              "      gap: 12px;\n",
              "    }\n",
              "\n",
              "    .colab-df-convert {\n",
              "      background-color: #E8F0FE;\n",
              "      border: none;\n",
              "      border-radius: 50%;\n",
              "      cursor: pointer;\n",
              "      display: none;\n",
              "      fill: #1967D2;\n",
              "      height: 32px;\n",
              "      padding: 0 0 0 0;\n",
              "      width: 32px;\n",
              "    }\n",
              "\n",
              "    .colab-df-convert:hover {\n",
              "      background-color: #E2EBFA;\n",
              "      box-shadow: 0px 1px 2px rgba(60, 64, 67, 0.3), 0px 1px 3px 1px rgba(60, 64, 67, 0.15);\n",
              "      fill: #174EA6;\n",
              "    }\n",
              "\n",
              "    .colab-df-buttons div {\n",
              "      margin-bottom: 4px;\n",
              "    }\n",
              "\n",
              "    [theme=dark] .colab-df-convert {\n",
              "      background-color: #3B4455;\n",
              "      fill: #D2E3FC;\n",
              "    }\n",
              "\n",
              "    [theme=dark] .colab-df-convert:hover {\n",
              "      background-color: #434B5C;\n",
              "      box-shadow: 0px 1px 3px 1px rgba(0, 0, 0, 0.15);\n",
              "      filter: drop-shadow(0px 1px 2px rgba(0, 0, 0, 0.3));\n",
              "      fill: #FFFFFF;\n",
              "    }\n",
              "  </style>\n",
              "\n",
              "    <script>\n",
              "      const buttonEl =\n",
              "        document.querySelector('#df-ab18db11-c149-4cd4-b3a2-5ba4d0f61d2c button.colab-df-convert');\n",
              "      buttonEl.style.display =\n",
              "        google.colab.kernel.accessAllowed ? 'block' : 'none';\n",
              "\n",
              "      async function convertToInteractive(key) {\n",
              "        const element = document.querySelector('#df-ab18db11-c149-4cd4-b3a2-5ba4d0f61d2c');\n",
              "        const dataTable =\n",
              "          await google.colab.kernel.invokeFunction('convertToInteractive',\n",
              "                                                    [key], {});\n",
              "        if (!dataTable) return;\n",
              "\n",
              "        const docLinkHtml = 'Like what you see? Visit the ' +\n",
              "          '<a target=\"_blank\" href=https://colab.research.google.com/notebooks/data_table.ipynb>data table notebook</a>'\n",
              "          + ' to learn more about interactive tables.';\n",
              "        element.innerHTML = '';\n",
              "        dataTable['output_type'] = 'display_data';\n",
              "        await google.colab.output.renderOutput(dataTable, element);\n",
              "        const docLink = document.createElement('div');\n",
              "        docLink.innerHTML = docLinkHtml;\n",
              "        element.appendChild(docLink);\n",
              "      }\n",
              "    </script>\n",
              "  </div>\n",
              "\n",
              "\n",
              "<div id=\"df-bf8c59aa-ed35-4210-80f4-6f94f93d49cf\">\n",
              "  <button class=\"colab-df-quickchart\" onclick=\"quickchart('df-bf8c59aa-ed35-4210-80f4-6f94f93d49cf')\"\n",
              "            title=\"Suggest charts\"\n",
              "            style=\"display:none;\">\n",
              "\n",
              "<svg xmlns=\"http://www.w3.org/2000/svg\" height=\"24px\"viewBox=\"0 0 24 24\"\n",
              "     width=\"24px\">\n",
              "    <g>\n",
              "        <path d=\"M19 3H5c-1.1 0-2 .9-2 2v14c0 1.1.9 2 2 2h14c1.1 0 2-.9 2-2V5c0-1.1-.9-2-2-2zM9 17H7v-7h2v7zm4 0h-2V7h2v10zm4 0h-2v-4h2v4z\"/>\n",
              "    </g>\n",
              "</svg>\n",
              "  </button>\n",
              "\n",
              "<style>\n",
              "  .colab-df-quickchart {\n",
              "      --bg-color: #E8F0FE;\n",
              "      --fill-color: #1967D2;\n",
              "      --hover-bg-color: #E2EBFA;\n",
              "      --hover-fill-color: #174EA6;\n",
              "      --disabled-fill-color: #AAA;\n",
              "      --disabled-bg-color: #DDD;\n",
              "  }\n",
              "\n",
              "  [theme=dark] .colab-df-quickchart {\n",
              "      --bg-color: #3B4455;\n",
              "      --fill-color: #D2E3FC;\n",
              "      --hover-bg-color: #434B5C;\n",
              "      --hover-fill-color: #FFFFFF;\n",
              "      --disabled-bg-color: #3B4455;\n",
              "      --disabled-fill-color: #666;\n",
              "  }\n",
              "\n",
              "  .colab-df-quickchart {\n",
              "    background-color: var(--bg-color);\n",
              "    border: none;\n",
              "    border-radius: 50%;\n",
              "    cursor: pointer;\n",
              "    display: none;\n",
              "    fill: var(--fill-color);\n",
              "    height: 32px;\n",
              "    padding: 0;\n",
              "    width: 32px;\n",
              "  }\n",
              "\n",
              "  .colab-df-quickchart:hover {\n",
              "    background-color: var(--hover-bg-color);\n",
              "    box-shadow: 0 1px 2px rgba(60, 64, 67, 0.3), 0 1px 3px 1px rgba(60, 64, 67, 0.15);\n",
              "    fill: var(--button-hover-fill-color);\n",
              "  }\n",
              "\n",
              "  .colab-df-quickchart-complete:disabled,\n",
              "  .colab-df-quickchart-complete:disabled:hover {\n",
              "    background-color: var(--disabled-bg-color);\n",
              "    fill: var(--disabled-fill-color);\n",
              "    box-shadow: none;\n",
              "  }\n",
              "\n",
              "  .colab-df-spinner {\n",
              "    border: 2px solid var(--fill-color);\n",
              "    border-color: transparent;\n",
              "    border-bottom-color: var(--fill-color);\n",
              "    animation:\n",
              "      spin 1s steps(1) infinite;\n",
              "  }\n",
              "\n",
              "  @keyframes spin {\n",
              "    0% {\n",
              "      border-color: transparent;\n",
              "      border-bottom-color: var(--fill-color);\n",
              "      border-left-color: var(--fill-color);\n",
              "    }\n",
              "    20% {\n",
              "      border-color: transparent;\n",
              "      border-left-color: var(--fill-color);\n",
              "      border-top-color: var(--fill-color);\n",
              "    }\n",
              "    30% {\n",
              "      border-color: transparent;\n",
              "      border-left-color: var(--fill-color);\n",
              "      border-top-color: var(--fill-color);\n",
              "      border-right-color: var(--fill-color);\n",
              "    }\n",
              "    40% {\n",
              "      border-color: transparent;\n",
              "      border-right-color: var(--fill-color);\n",
              "      border-top-color: var(--fill-color);\n",
              "    }\n",
              "    60% {\n",
              "      border-color: transparent;\n",
              "      border-right-color: var(--fill-color);\n",
              "    }\n",
              "    80% {\n",
              "      border-color: transparent;\n",
              "      border-right-color: var(--fill-color);\n",
              "      border-bottom-color: var(--fill-color);\n",
              "    }\n",
              "    90% {\n",
              "      border-color: transparent;\n",
              "      border-bottom-color: var(--fill-color);\n",
              "    }\n",
              "  }\n",
              "</style>\n",
              "\n",
              "  <script>\n",
              "    async function quickchart(key) {\n",
              "      const quickchartButtonEl =\n",
              "        document.querySelector('#' + key + ' button');\n",
              "      quickchartButtonEl.disabled = true;  // To prevent multiple clicks.\n",
              "      quickchartButtonEl.classList.add('colab-df-spinner');\n",
              "      try {\n",
              "        const charts = await google.colab.kernel.invokeFunction(\n",
              "            'suggestCharts', [key], {});\n",
              "      } catch (error) {\n",
              "        console.error('Error during call to suggestCharts:', error);\n",
              "      }\n",
              "      quickchartButtonEl.classList.remove('colab-df-spinner');\n",
              "      quickchartButtonEl.classList.add('colab-df-quickchart-complete');\n",
              "    }\n",
              "    (() => {\n",
              "      let quickchartButtonEl =\n",
              "        document.querySelector('#df-bf8c59aa-ed35-4210-80f4-6f94f93d49cf button');\n",
              "      quickchartButtonEl.style.display =\n",
              "        google.colab.kernel.accessAllowed ? 'block' : 'none';\n",
              "    })();\n",
              "  </script>\n",
              "</div>\n",
              "\n",
              "    </div>\n",
              "  </div>\n"
            ],
            "application/vnd.google.colaboratory.intrinsic+json": {
              "type": "dataframe",
              "variable_name": "data",
              "summary": "{\n  \"name\": \"data\",\n  \"rows\": 50,\n  \"fields\": [\n    {\n      \"column\": \"R&D Spend\",\n      \"properties\": {\n        \"dtype\": \"number\",\n        \"std\": 45902.25648230753,\n        \"min\": 0.0,\n        \"max\": 165349.2,\n        \"num_unique_values\": 49,\n        \"samples\": [\n          91992.39,\n          1000.23,\n          0.0\n        ],\n        \"semantic_type\": \"\",\n        \"description\": \"\"\n      }\n    },\n    {\n      \"column\": \"Administration\",\n      \"properties\": {\n        \"dtype\": \"number\",\n        \"std\": 28017.802755488683,\n        \"min\": 51283.14,\n        \"max\": 182645.56,\n        \"num_unique_values\": 50,\n        \"samples\": [\n          135495.07,\n          82982.09,\n          115641.28\n        ],\n        \"semantic_type\": \"\",\n        \"description\": \"\"\n      }\n    },\n    {\n      \"column\": \"Marketing Spend\",\n      \"properties\": {\n        \"dtype\": \"number\",\n        \"std\": 122290.31072584528,\n        \"min\": 0.0,\n        \"max\": 471784.1,\n        \"num_unique_values\": 48,\n        \"samples\": [\n          353183.81,\n          172795.67,\n          134050.07\n        ],\n        \"semantic_type\": \"\",\n        \"description\": \"\"\n      }\n    },\n    {\n      \"column\": \"State\",\n      \"properties\": {\n        \"dtype\": \"category\",\n        \"num_unique_values\": 3,\n        \"samples\": [\n          \"New York\",\n          \"California\",\n          \"Florida\"\n        ],\n        \"semantic_type\": \"\",\n        \"description\": \"\"\n      }\n    },\n    {\n      \"column\": \"Profit\",\n      \"properties\": {\n        \"dtype\": \"number\",\n        \"std\": 40306.18033765055,\n        \"min\": 14681.4,\n        \"max\": 192261.83,\n        \"num_unique_values\": 50,\n        \"samples\": [\n          134307.35,\n          81005.76,\n          99937.59\n        ],\n        \"semantic_type\": \"\",\n        \"description\": \"\"\n      }\n    }\n  ]\n}"
            }
          },
          "metadata": {},
          "execution_count": 28
        }
      ]
    },
    {
      "cell_type": "code",
      "source": [
        "data.info()"
      ],
      "metadata": {
        "colab": {
          "base_uri": "https://localhost:8080/"
        },
        "id": "Qi7JVujoF7zL",
        "outputId": "5d4f30ba-63ae-43f9-8d26-b4c0cd886892"
      },
      "execution_count": 29,
      "outputs": [
        {
          "output_type": "stream",
          "name": "stdout",
          "text": [
            "<class 'pandas.core.frame.DataFrame'>\n",
            "RangeIndex: 50 entries, 0 to 49\n",
            "Data columns (total 5 columns):\n",
            " #   Column           Non-Null Count  Dtype  \n",
            "---  ------           --------------  -----  \n",
            " 0   R&D Spend        50 non-null     float64\n",
            " 1   Administration   50 non-null     float64\n",
            " 2   Marketing Spend  50 non-null     float64\n",
            " 3   State            50 non-null     object \n",
            " 4   Profit           50 non-null     float64\n",
            "dtypes: float64(4), object(1)\n",
            "memory usage: 2.1+ KB\n"
          ]
        }
      ]
    },
    {
      "cell_type": "code",
      "source": [
        "# Extracting Independent And Dependent Variable\n",
        "data.columns"
      ],
      "metadata": {
        "colab": {
          "base_uri": "https://localhost:8080/"
        },
        "id": "QFIOzgeKHA7_",
        "outputId": "e02aad39-b678-4b1c-b27b-3f10f870c639"
      },
      "execution_count": 30,
      "outputs": [
        {
          "output_type": "execute_result",
          "data": {
            "text/plain": [
              "Index(['R&D Spend', 'Administration', 'Marketing Spend', 'State', 'Profit'], dtype='object')"
            ]
          },
          "metadata": {},
          "execution_count": 30
        }
      ]
    },
    {
      "cell_type": "code",
      "source": [
        "x = ['R&D Spend', 'Administration', 'Marketing Spend', 'State']\n",
        "x = data[x].values\n",
        "x"
      ],
      "metadata": {
        "colab": {
          "base_uri": "https://localhost:8080/"
        },
        "id": "WxJebqaGHOUu",
        "outputId": "8aa5c059-d798-4844-d6bb-9fb1ddc1ffff"
      },
      "execution_count": 31,
      "outputs": [
        {
          "output_type": "execute_result",
          "data": {
            "text/plain": [
              "array([[165349.2, 136897.8, 471784.1, 'New York'],\n",
              "       [162597.7, 151377.59, 443898.53, 'California'],\n",
              "       [153441.51, 101145.55, 407934.54, 'Florida'],\n",
              "       [144372.41, 118671.85, 383199.62, 'New York'],\n",
              "       [142107.34, 91391.77, 366168.42, 'Florida'],\n",
              "       [131876.9, 99814.71, 362861.36, 'New York'],\n",
              "       [134615.46, 147198.87, 127716.82, 'California'],\n",
              "       [130298.13, 145530.06, 323876.68, 'Florida'],\n",
              "       [120542.52, 148718.95, 311613.29, 'New York'],\n",
              "       [123334.88, 108679.17, 304981.62, 'California'],\n",
              "       [101913.08, 110594.11, 229160.95, 'Florida'],\n",
              "       [100671.96, 91790.61, 249744.55, 'California'],\n",
              "       [93863.75, 127320.38, 249839.44, 'Florida'],\n",
              "       [91992.39, 135495.07, 252664.93, 'California'],\n",
              "       [119943.24, 156547.42, 256512.92, 'Florida'],\n",
              "       [114523.61, 122616.84, 261776.23, 'New York'],\n",
              "       [78013.11, 121597.55, 264346.06, 'California'],\n",
              "       [94657.16, 145077.58, 282574.31, 'New York'],\n",
              "       [91749.16, 114175.79, 294919.57, 'Florida'],\n",
              "       [86419.7, 153514.11, 0.0, 'New York'],\n",
              "       [76253.86, 113867.3, 298664.47, 'California'],\n",
              "       [78389.47, 153773.43, 299737.29, 'New York'],\n",
              "       [73994.56, 122782.75, 303319.26, 'Florida'],\n",
              "       [67532.53, 105751.03, 304768.73, 'Florida'],\n",
              "       [77044.01, 99281.34, 140574.81, 'New York'],\n",
              "       [64664.71, 139553.16, 137962.62, 'California'],\n",
              "       [75328.87, 144135.98, 134050.07, 'Florida'],\n",
              "       [72107.6, 127864.55, 353183.81, 'New York'],\n",
              "       [66051.52, 182645.56, 118148.2, 'Florida'],\n",
              "       [65605.48, 153032.06, 107138.38, 'New York'],\n",
              "       [61994.48, 115641.28, 91131.24, 'Florida'],\n",
              "       [61136.38, 152701.92, 88218.23, 'New York'],\n",
              "       [63408.86, 129219.61, 46085.25, 'California'],\n",
              "       [55493.95, 103057.49, 214634.81, 'Florida'],\n",
              "       [46426.07, 157693.92, 210797.67, 'California'],\n",
              "       [46014.02, 85047.44, 205517.64, 'New York'],\n",
              "       [28663.76, 127056.21, 201126.82, 'Florida'],\n",
              "       [44069.95, 51283.14, 197029.42, 'California'],\n",
              "       [20229.59, 65947.93, 185265.1, 'New York'],\n",
              "       [38558.51, 82982.09, 174999.3, 'California'],\n",
              "       [28754.33, 118546.05, 172795.67, 'California'],\n",
              "       [27892.92, 84710.77, 164470.71, 'Florida'],\n",
              "       [23640.93, 96189.63, 148001.11, 'California'],\n",
              "       [15505.73, 127382.3, 35534.17, 'New York'],\n",
              "       [22177.74, 154806.14, 28334.72, 'California'],\n",
              "       [1000.23, 124153.04, 1903.93, 'New York'],\n",
              "       [1315.46, 115816.21, 297114.46, 'Florida'],\n",
              "       [0.0, 135426.92, 0.0, 'California'],\n",
              "       [542.05, 51743.15, 0.0, 'New York'],\n",
              "       [0.0, 116983.8, 45173.06, 'California']], dtype=object)"
            ]
          },
          "metadata": {},
          "execution_count": 31
        }
      ]
    },
    {
      "cell_type": "code",
      "source": [
        "y = data.Profit.values\n",
        "y"
      ],
      "metadata": {
        "colab": {
          "base_uri": "https://localhost:8080/"
        },
        "id": "Qy0eROJoHcP1",
        "outputId": "5b48e6d3-8b6d-4d95-d161-0f305bf0f2c0"
      },
      "execution_count": 32,
      "outputs": [
        {
          "output_type": "execute_result",
          "data": {
            "text/plain": [
              "array([192261.83, 191792.06, 191050.39, 182901.99, 166187.94, 156991.12,\n",
              "       156122.51, 155752.6 , 152211.77, 149759.96, 146121.95, 144259.4 ,\n",
              "       141585.52, 134307.35, 132602.65, 129917.04, 126992.93, 125370.37,\n",
              "       124266.9 , 122776.86, 118474.03, 111313.02, 110352.25, 108733.99,\n",
              "       108552.04, 107404.34, 105733.54, 105008.31, 103282.38, 101004.64,\n",
              "        99937.59,  97483.56,  97427.84,  96778.92,  96712.8 ,  96479.51,\n",
              "        90708.19,  89949.14,  81229.06,  81005.76,  78239.91,  77798.83,\n",
              "        71498.49,  69758.98,  65200.33,  64926.08,  49490.75,  42559.73,\n",
              "        35673.41,  14681.4 ])"
            ]
          },
          "metadata": {},
          "execution_count": 32
        }
      ]
    },
    {
      "cell_type": "code",
      "source": [
        "from sklearn.preprocessing import LabelEncoder , OneHotEncoder\n",
        "from sklearn.compose import ColumnTransformer\n",
        "\n",
        "label_encoder = LabelEncoder()\n",
        "\n",
        "x[:,3] = label_encoder.fit_transform(x[:,3])\n",
        "\n",
        "transformer = ColumnTransformer(transformers=[(\"OneHot\",OneHotEncoder(),[3])],\n",
        "                                remainder='passthrough')\n",
        "\n",
        "x = transformer.fit_transform(x)\n",
        "\n",
        "x = x.astype(int)"
      ],
      "metadata": {
        "id": "VGr_oKIvL7Qy"
      },
      "execution_count": 33,
      "outputs": []
    },
    {
      "cell_type": "code",
      "source": [
        "x\n"
      ],
      "metadata": {
        "colab": {
          "base_uri": "https://localhost:8080/"
        },
        "id": "WdoLDaEyNBoY",
        "outputId": "16446bd4-64fc-44b1-f09d-75ae3fb37d83"
      },
      "execution_count": 34,
      "outputs": [
        {
          "output_type": "execute_result",
          "data": {
            "text/plain": [
              "array([[     0,      0,      1, 165349, 136897, 471784],\n",
              "       [     1,      0,      0, 162597, 151377, 443898],\n",
              "       [     0,      1,      0, 153441, 101145, 407934],\n",
              "       [     0,      0,      1, 144372, 118671, 383199],\n",
              "       [     0,      1,      0, 142107,  91391, 366168],\n",
              "       [     0,      0,      1, 131876,  99814, 362861],\n",
              "       [     1,      0,      0, 134615, 147198, 127716],\n",
              "       [     0,      1,      0, 130298, 145530, 323876],\n",
              "       [     0,      0,      1, 120542, 148718, 311613],\n",
              "       [     1,      0,      0, 123334, 108679, 304981],\n",
              "       [     0,      1,      0, 101913, 110594, 229160],\n",
              "       [     1,      0,      0, 100671,  91790, 249744],\n",
              "       [     0,      1,      0,  93863, 127320, 249839],\n",
              "       [     1,      0,      0,  91992, 135495, 252664],\n",
              "       [     0,      1,      0, 119943, 156547, 256512],\n",
              "       [     0,      0,      1, 114523, 122616, 261776],\n",
              "       [     1,      0,      0,  78013, 121597, 264346],\n",
              "       [     0,      0,      1,  94657, 145077, 282574],\n",
              "       [     0,      1,      0,  91749, 114175, 294919],\n",
              "       [     0,      0,      1,  86419, 153514,      0],\n",
              "       [     1,      0,      0,  76253, 113867, 298664],\n",
              "       [     0,      0,      1,  78389, 153773, 299737],\n",
              "       [     0,      1,      0,  73994, 122782, 303319],\n",
              "       [     0,      1,      0,  67532, 105751, 304768],\n",
              "       [     0,      0,      1,  77044,  99281, 140574],\n",
              "       [     1,      0,      0,  64664, 139553, 137962],\n",
              "       [     0,      1,      0,  75328, 144135, 134050],\n",
              "       [     0,      0,      1,  72107, 127864, 353183],\n",
              "       [     0,      1,      0,  66051, 182645, 118148],\n",
              "       [     0,      0,      1,  65605, 153032, 107138],\n",
              "       [     0,      1,      0,  61994, 115641,  91131],\n",
              "       [     0,      0,      1,  61136, 152701,  88218],\n",
              "       [     1,      0,      0,  63408, 129219,  46085],\n",
              "       [     0,      1,      0,  55493, 103057, 214634],\n",
              "       [     1,      0,      0,  46426, 157693, 210797],\n",
              "       [     0,      0,      1,  46014,  85047, 205517],\n",
              "       [     0,      1,      0,  28663, 127056, 201126],\n",
              "       [     1,      0,      0,  44069,  51283, 197029],\n",
              "       [     0,      0,      1,  20229,  65947, 185265],\n",
              "       [     1,      0,      0,  38558,  82982, 174999],\n",
              "       [     1,      0,      0,  28754, 118546, 172795],\n",
              "       [     0,      1,      0,  27892,  84710, 164470],\n",
              "       [     1,      0,      0,  23640,  96189, 148001],\n",
              "       [     0,      0,      1,  15505, 127382,  35534],\n",
              "       [     1,      0,      0,  22177, 154806,  28334],\n",
              "       [     0,      0,      1,   1000, 124153,   1903],\n",
              "       [     0,      1,      0,   1315, 115816, 297114],\n",
              "       [     1,      0,      0,      0, 135426,      0],\n",
              "       [     0,      0,      1,    542,  51743,      0],\n",
              "       [     1,      0,      0,      0, 116983,  45173]])"
            ]
          },
          "metadata": {},
          "execution_count": 34
        }
      ]
    },
    {
      "cell_type": "code",
      "source": [
        "# Splitting The Dataset\n",
        "from sklearn.model_selection import train_test_split\n",
        "\n",
        "x_train , x_test , y_train , y_test = train_test_split(x,y,test_size=0.2,random_state=0)"
      ],
      "metadata": {
        "id": "DTgW33rXUgAl"
      },
      "execution_count": 35,
      "outputs": []
    },
    {
      "cell_type": "code",
      "source": [
        "print('Original Shape')\n",
        "print(x.shape)\n",
        "print(y.shape)\n",
        "print('After Splitting')\n",
        "print(x_train.shape)\n",
        "print(y_train.shape)\n",
        "print(x_test.shape)\n",
        "print(y_test.shape)"
      ],
      "metadata": {
        "colab": {
          "base_uri": "https://localhost:8080/"
        },
        "id": "l8WPPgDSZBdW",
        "outputId": "29bdb03f-62cd-4f12-8d79-bab75aae4bc4"
      },
      "execution_count": 36,
      "outputs": [
        {
          "output_type": "stream",
          "name": "stdout",
          "text": [
            "Original Shape\n",
            "(50, 6)\n",
            "(50,)\n",
            "After Splitting\n",
            "(40, 6)\n",
            "(40,)\n",
            "(10, 6)\n",
            "(10,)\n"
          ]
        }
      ]
    },
    {
      "cell_type": "code",
      "source": [
        "# Model Development\n",
        "from sklearn.linear_model import LinearRegression\n",
        "mlr = LinearRegression()\n",
        "mlr.fit(x_train,y_train)"
      ],
      "metadata": {
        "colab": {
          "base_uri": "https://localhost:8080/",
          "height": 74
        },
        "id": "Oppxo7vnNs1U",
        "outputId": "c0af5449-0c7f-47b5-86b2-2f841923a867"
      },
      "execution_count": 37,
      "outputs": [
        {
          "output_type": "execute_result",
          "data": {
            "text/plain": [
              "LinearRegression()"
            ],
            "text/html": [
              "<style>#sk-container-id-2 {color: black;background-color: white;}#sk-container-id-2 pre{padding: 0;}#sk-container-id-2 div.sk-toggleable {background-color: white;}#sk-container-id-2 label.sk-toggleable__label {cursor: pointer;display: block;width: 100%;margin-bottom: 0;padding: 0.3em;box-sizing: border-box;text-align: center;}#sk-container-id-2 label.sk-toggleable__label-arrow:before {content: \"▸\";float: left;margin-right: 0.25em;color: #696969;}#sk-container-id-2 label.sk-toggleable__label-arrow:hover:before {color: black;}#sk-container-id-2 div.sk-estimator:hover label.sk-toggleable__label-arrow:before {color: black;}#sk-container-id-2 div.sk-toggleable__content {max-height: 0;max-width: 0;overflow: hidden;text-align: left;background-color: #f0f8ff;}#sk-container-id-2 div.sk-toggleable__content pre {margin: 0.2em;color: black;border-radius: 0.25em;background-color: #f0f8ff;}#sk-container-id-2 input.sk-toggleable__control:checked~div.sk-toggleable__content {max-height: 200px;max-width: 100%;overflow: auto;}#sk-container-id-2 input.sk-toggleable__control:checked~label.sk-toggleable__label-arrow:before {content: \"▾\";}#sk-container-id-2 div.sk-estimator input.sk-toggleable__control:checked~label.sk-toggleable__label {background-color: #d4ebff;}#sk-container-id-2 div.sk-label input.sk-toggleable__control:checked~label.sk-toggleable__label {background-color: #d4ebff;}#sk-container-id-2 input.sk-hidden--visually {border: 0;clip: rect(1px 1px 1px 1px);clip: rect(1px, 1px, 1px, 1px);height: 1px;margin: -1px;overflow: hidden;padding: 0;position: absolute;width: 1px;}#sk-container-id-2 div.sk-estimator {font-family: monospace;background-color: #f0f8ff;border: 1px dotted black;border-radius: 0.25em;box-sizing: border-box;margin-bottom: 0.5em;}#sk-container-id-2 div.sk-estimator:hover {background-color: #d4ebff;}#sk-container-id-2 div.sk-parallel-item::after {content: \"\";width: 100%;border-bottom: 1px solid gray;flex-grow: 1;}#sk-container-id-2 div.sk-label:hover label.sk-toggleable__label {background-color: #d4ebff;}#sk-container-id-2 div.sk-serial::before {content: \"\";position: absolute;border-left: 1px solid gray;box-sizing: border-box;top: 0;bottom: 0;left: 50%;z-index: 0;}#sk-container-id-2 div.sk-serial {display: flex;flex-direction: column;align-items: center;background-color: white;padding-right: 0.2em;padding-left: 0.2em;position: relative;}#sk-container-id-2 div.sk-item {position: relative;z-index: 1;}#sk-container-id-2 div.sk-parallel {display: flex;align-items: stretch;justify-content: center;background-color: white;position: relative;}#sk-container-id-2 div.sk-item::before, #sk-container-id-2 div.sk-parallel-item::before {content: \"\";position: absolute;border-left: 1px solid gray;box-sizing: border-box;top: 0;bottom: 0;left: 50%;z-index: -1;}#sk-container-id-2 div.sk-parallel-item {display: flex;flex-direction: column;z-index: 1;position: relative;background-color: white;}#sk-container-id-2 div.sk-parallel-item:first-child::after {align-self: flex-end;width: 50%;}#sk-container-id-2 div.sk-parallel-item:last-child::after {align-self: flex-start;width: 50%;}#sk-container-id-2 div.sk-parallel-item:only-child::after {width: 0;}#sk-container-id-2 div.sk-dashed-wrapped {border: 1px dashed gray;margin: 0 0.4em 0.5em 0.4em;box-sizing: border-box;padding-bottom: 0.4em;background-color: white;}#sk-container-id-2 div.sk-label label {font-family: monospace;font-weight: bold;display: inline-block;line-height: 1.2em;}#sk-container-id-2 div.sk-label-container {text-align: center;}#sk-container-id-2 div.sk-container {/* jupyter's `normalize.less` sets `[hidden] { display: none; }` but bootstrap.min.css set `[hidden] { display: none !important; }` so we also need the `!important` here to be able to override the default hidden behavior on the sphinx rendered scikit-learn.org. See: https://github.com/scikit-learn/scikit-learn/issues/21755 */display: inline-block !important;position: relative;}#sk-container-id-2 div.sk-text-repr-fallback {display: none;}</style><div id=\"sk-container-id-2\" class=\"sk-top-container\"><div class=\"sk-text-repr-fallback\"><pre>LinearRegression()</pre><b>In a Jupyter environment, please rerun this cell to show the HTML representation or trust the notebook. <br />On GitHub, the HTML representation is unable to render, please try loading this page with nbviewer.org.</b></div><div class=\"sk-container\" hidden><div class=\"sk-item\"><div class=\"sk-estimator sk-toggleable\"><input class=\"sk-toggleable__control sk-hidden--visually\" id=\"sk-estimator-id-2\" type=\"checkbox\" checked><label for=\"sk-estimator-id-2\" class=\"sk-toggleable__label sk-toggleable__label-arrow\">LinearRegression</label><div class=\"sk-toggleable__content\"><pre>LinearRegression()</pre></div></div></div></div></div>"
            ]
          },
          "metadata": {},
          "execution_count": 37
        }
      ]
    },
    {
      "cell_type": "code",
      "source": [
        "pred_values = mlr.predict(x_test)\n",
        "pred_values"
      ],
      "metadata": {
        "colab": {
          "base_uri": "https://localhost:8080/"
        },
        "id": "SY6KX9bROyrO",
        "outputId": "3519c237-5f2f-4136-8923-f7b84636234f"
      },
      "execution_count": 38,
      "outputs": [
        {
          "output_type": "execute_result",
          "data": {
            "text/plain": [
              "array([103015.24646785, 132581.94062687, 132448.09397396,  71975.74395634,\n",
              "       178537.52007853, 116161.05196901,  67851.47761321,  98791.74112204,\n",
              "       113969.41004647, 167921.22416079])"
            ]
          },
          "metadata": {},
          "execution_count": 38
        }
      ]
    },
    {
      "cell_type": "code",
      "source": [
        "from sklearn.metrics import r2_score\n",
        "accuracy = r2_score(y_test,pred_values)\n",
        "print('Accuracy of model :',accuracy*100)"
      ],
      "metadata": {
        "colab": {
          "base_uri": "https://localhost:8080/"
        },
        "id": "MUtNubgLPS_Y",
        "outputId": "aa971fb6-dd42-4d36-f002-bfb958162f5d"
      },
      "execution_count": 39,
      "outputs": [
        {
          "output_type": "stream",
          "name": "stdout",
          "text": [
            "Accuracy of model : 93.47065984136125\n"
          ]
        }
      ]
    },
    {
      "cell_type": "code",
      "source": [
        "# Final Predictions\n",
        "\n",
        "california = int(input('Is startup is in California ? Enter 1 if yes else 0 : '))\n",
        "florida = int(input('Is startup is in Florida ? Enter 1 if yes else 0 : '))\n",
        "newyork = int(input('Is startup is in NewYork ? Enter 1 if yes else 0 : '))\n",
        "r_d = int(input('Enter Research & Development Spend : '))\n",
        "admin = int(input('Enter Administration Spend : '))\n",
        "market = int(input('Enter Marketing Spend : '))\n",
        "\n",
        "user_input = {'california':california , 'florida':florida , 'newyork':newyork , 'r_d':r_d ,\n",
        "              'admin':admin , 'market':market}\n",
        "\n",
        "user_data = pd.DataFrame(user_input,index=[0])\n",
        "user_data"
      ],
      "metadata": {
        "colab": {
          "base_uri": "https://localhost:8080/",
          "height": 193
        },
        "id": "QngHJxrSQunv",
        "outputId": "bfdf5e22-b5c7-456d-f9d4-7394d0f0f481"
      },
      "execution_count": 41,
      "outputs": [
        {
          "name": "stdout",
          "output_type": "stream",
          "text": [
            "Is startup is in California ? Enter 1 if yes else 0 : 1\n",
            "Is startup is in Florida ? Enter 1 if yes else 0 : 0\n",
            "Is startup is in NewYork ? Enter 1 if yes else 0 : 0\n",
            "Enter Research & Development Spend : 162597\n",
            "Enter Administration Spend : 151377\n",
            "Enter Marketing Spend : 443898\n"
          ]
        },
        {
          "output_type": "execute_result",
          "data": {
            "text/plain": [
              "   california  florida  newyork     r_d   admin  market\n",
              "0           1        0        0  162597  151377  443898"
            ],
            "text/html": [
              "\n",
              "  <div id=\"df-32443ac9-a1d2-4e72-81ee-29c2cad60c55\" class=\"colab-df-container\">\n",
              "    <div>\n",
              "<style scoped>\n",
              "    .dataframe tbody tr th:only-of-type {\n",
              "        vertical-align: middle;\n",
              "    }\n",
              "\n",
              "    .dataframe tbody tr th {\n",
              "        vertical-align: top;\n",
              "    }\n",
              "\n",
              "    .dataframe thead th {\n",
              "        text-align: right;\n",
              "    }\n",
              "</style>\n",
              "<table border=\"1\" class=\"dataframe\">\n",
              "  <thead>\n",
              "    <tr style=\"text-align: right;\">\n",
              "      <th></th>\n",
              "      <th>california</th>\n",
              "      <th>florida</th>\n",
              "      <th>newyork</th>\n",
              "      <th>r_d</th>\n",
              "      <th>admin</th>\n",
              "      <th>market</th>\n",
              "    </tr>\n",
              "  </thead>\n",
              "  <tbody>\n",
              "    <tr>\n",
              "      <th>0</th>\n",
              "      <td>1</td>\n",
              "      <td>0</td>\n",
              "      <td>0</td>\n",
              "      <td>162597</td>\n",
              "      <td>151377</td>\n",
              "      <td>443898</td>\n",
              "    </tr>\n",
              "  </tbody>\n",
              "</table>\n",
              "</div>\n",
              "    <div class=\"colab-df-buttons\">\n",
              "\n",
              "  <div class=\"colab-df-container\">\n",
              "    <button class=\"colab-df-convert\" onclick=\"convertToInteractive('df-32443ac9-a1d2-4e72-81ee-29c2cad60c55')\"\n",
              "            title=\"Convert this dataframe to an interactive table.\"\n",
              "            style=\"display:none;\">\n",
              "\n",
              "  <svg xmlns=\"http://www.w3.org/2000/svg\" height=\"24px\" viewBox=\"0 -960 960 960\">\n",
              "    <path d=\"M120-120v-720h720v720H120Zm60-500h600v-160H180v160Zm220 220h160v-160H400v160Zm0 220h160v-160H400v160ZM180-400h160v-160H180v160Zm440 0h160v-160H620v160ZM180-180h160v-160H180v160Zm440 0h160v-160H620v160Z\"/>\n",
              "  </svg>\n",
              "    </button>\n",
              "\n",
              "  <style>\n",
              "    .colab-df-container {\n",
              "      display:flex;\n",
              "      gap: 12px;\n",
              "    }\n",
              "\n",
              "    .colab-df-convert {\n",
              "      background-color: #E8F0FE;\n",
              "      border: none;\n",
              "      border-radius: 50%;\n",
              "      cursor: pointer;\n",
              "      display: none;\n",
              "      fill: #1967D2;\n",
              "      height: 32px;\n",
              "      padding: 0 0 0 0;\n",
              "      width: 32px;\n",
              "    }\n",
              "\n",
              "    .colab-df-convert:hover {\n",
              "      background-color: #E2EBFA;\n",
              "      box-shadow: 0px 1px 2px rgba(60, 64, 67, 0.3), 0px 1px 3px 1px rgba(60, 64, 67, 0.15);\n",
              "      fill: #174EA6;\n",
              "    }\n",
              "\n",
              "    .colab-df-buttons div {\n",
              "      margin-bottom: 4px;\n",
              "    }\n",
              "\n",
              "    [theme=dark] .colab-df-convert {\n",
              "      background-color: #3B4455;\n",
              "      fill: #D2E3FC;\n",
              "    }\n",
              "\n",
              "    [theme=dark] .colab-df-convert:hover {\n",
              "      background-color: #434B5C;\n",
              "      box-shadow: 0px 1px 3px 1px rgba(0, 0, 0, 0.15);\n",
              "      filter: drop-shadow(0px 1px 2px rgba(0, 0, 0, 0.3));\n",
              "      fill: #FFFFFF;\n",
              "    }\n",
              "  </style>\n",
              "\n",
              "    <script>\n",
              "      const buttonEl =\n",
              "        document.querySelector('#df-32443ac9-a1d2-4e72-81ee-29c2cad60c55 button.colab-df-convert');\n",
              "      buttonEl.style.display =\n",
              "        google.colab.kernel.accessAllowed ? 'block' : 'none';\n",
              "\n",
              "      async function convertToInteractive(key) {\n",
              "        const element = document.querySelector('#df-32443ac9-a1d2-4e72-81ee-29c2cad60c55');\n",
              "        const dataTable =\n",
              "          await google.colab.kernel.invokeFunction('convertToInteractive',\n",
              "                                                    [key], {});\n",
              "        if (!dataTable) return;\n",
              "\n",
              "        const docLinkHtml = 'Like what you see? Visit the ' +\n",
              "          '<a target=\"_blank\" href=https://colab.research.google.com/notebooks/data_table.ipynb>data table notebook</a>'\n",
              "          + ' to learn more about interactive tables.';\n",
              "        element.innerHTML = '';\n",
              "        dataTable['output_type'] = 'display_data';\n",
              "        await google.colab.output.renderOutput(dataTable, element);\n",
              "        const docLink = document.createElement('div');\n",
              "        docLink.innerHTML = docLinkHtml;\n",
              "        element.appendChild(docLink);\n",
              "      }\n",
              "    </script>\n",
              "  </div>\n",
              "\n",
              "\n",
              "  <div id=\"id_f5e06fbd-3e90-4974-9d92-fe0c595063a7\">\n",
              "    <style>\n",
              "      .colab-df-generate {\n",
              "        background-color: #E8F0FE;\n",
              "        border: none;\n",
              "        border-radius: 50%;\n",
              "        cursor: pointer;\n",
              "        display: none;\n",
              "        fill: #1967D2;\n",
              "        height: 32px;\n",
              "        padding: 0 0 0 0;\n",
              "        width: 32px;\n",
              "      }\n",
              "\n",
              "      .colab-df-generate:hover {\n",
              "        background-color: #E2EBFA;\n",
              "        box-shadow: 0px 1px 2px rgba(60, 64, 67, 0.3), 0px 1px 3px 1px rgba(60, 64, 67, 0.15);\n",
              "        fill: #174EA6;\n",
              "      }\n",
              "\n",
              "      [theme=dark] .colab-df-generate {\n",
              "        background-color: #3B4455;\n",
              "        fill: #D2E3FC;\n",
              "      }\n",
              "\n",
              "      [theme=dark] .colab-df-generate:hover {\n",
              "        background-color: #434B5C;\n",
              "        box-shadow: 0px 1px 3px 1px rgba(0, 0, 0, 0.15);\n",
              "        filter: drop-shadow(0px 1px 2px rgba(0, 0, 0, 0.3));\n",
              "        fill: #FFFFFF;\n",
              "      }\n",
              "    </style>\n",
              "    <button class=\"colab-df-generate\" onclick=\"generateWithVariable('user_data')\"\n",
              "            title=\"Generate code using this dataframe.\"\n",
              "            style=\"display:none;\">\n",
              "\n",
              "  <svg xmlns=\"http://www.w3.org/2000/svg\" height=\"24px\"viewBox=\"0 0 24 24\"\n",
              "       width=\"24px\">\n",
              "    <path d=\"M7,19H8.4L18.45,9,17,7.55,7,17.6ZM5,21V16.75L18.45,3.32a2,2,0,0,1,2.83,0l1.4,1.43a1.91,1.91,0,0,1,.58,1.4,1.91,1.91,0,0,1-.58,1.4L9.25,21ZM18.45,9,17,7.55Zm-12,3A5.31,5.31,0,0,0,4.9,8.1,5.31,5.31,0,0,0,1,6.5,5.31,5.31,0,0,0,4.9,4.9,5.31,5.31,0,0,0,6.5,1,5.31,5.31,0,0,0,8.1,4.9,5.31,5.31,0,0,0,12,6.5,5.46,5.46,0,0,0,6.5,12Z\"/>\n",
              "  </svg>\n",
              "    </button>\n",
              "    <script>\n",
              "      (() => {\n",
              "      const buttonEl =\n",
              "        document.querySelector('#id_f5e06fbd-3e90-4974-9d92-fe0c595063a7 button.colab-df-generate');\n",
              "      buttonEl.style.display =\n",
              "        google.colab.kernel.accessAllowed ? 'block' : 'none';\n",
              "\n",
              "      buttonEl.onclick = () => {\n",
              "        google.colab.notebook.generateWithVariable('user_data');\n",
              "      }\n",
              "      })();\n",
              "    </script>\n",
              "  </div>\n",
              "\n",
              "    </div>\n",
              "  </div>\n"
            ],
            "application/vnd.google.colaboratory.intrinsic+json": {
              "type": "dataframe",
              "variable_name": "user_data",
              "summary": "{\n  \"name\": \"user_data\",\n  \"rows\": 1,\n  \"fields\": [\n    {\n      \"column\": \"california\",\n      \"properties\": {\n        \"dtype\": \"number\",\n        \"std\": null,\n        \"min\": 1,\n        \"max\": 1,\n        \"num_unique_values\": 1,\n        \"samples\": [\n          1\n        ],\n        \"semantic_type\": \"\",\n        \"description\": \"\"\n      }\n    },\n    {\n      \"column\": \"florida\",\n      \"properties\": {\n        \"dtype\": \"number\",\n        \"std\": null,\n        \"min\": 0,\n        \"max\": 0,\n        \"num_unique_values\": 1,\n        \"samples\": [\n          0\n        ],\n        \"semantic_type\": \"\",\n        \"description\": \"\"\n      }\n    },\n    {\n      \"column\": \"newyork\",\n      \"properties\": {\n        \"dtype\": \"number\",\n        \"std\": null,\n        \"min\": 0,\n        \"max\": 0,\n        \"num_unique_values\": 1,\n        \"samples\": [\n          0\n        ],\n        \"semantic_type\": \"\",\n        \"description\": \"\"\n      }\n    },\n    {\n      \"column\": \"r_d\",\n      \"properties\": {\n        \"dtype\": \"number\",\n        \"std\": null,\n        \"min\": 162597,\n        \"max\": 162597,\n        \"num_unique_values\": 1,\n        \"samples\": [\n          162597\n        ],\n        \"semantic_type\": \"\",\n        \"description\": \"\"\n      }\n    },\n    {\n      \"column\": \"admin\",\n      \"properties\": {\n        \"dtype\": \"number\",\n        \"std\": null,\n        \"min\": 151377,\n        \"max\": 151377,\n        \"num_unique_values\": 1,\n        \"samples\": [\n          151377\n        ],\n        \"semantic_type\": \"\",\n        \"description\": \"\"\n      }\n    },\n    {\n      \"column\": \"market\",\n      \"properties\": {\n        \"dtype\": \"number\",\n        \"std\": null,\n        \"min\": 443898,\n        \"max\": 443898,\n        \"num_unique_values\": 1,\n        \"samples\": [\n          443898\n        ],\n        \"semantic_type\": \"\",\n        \"description\": \"\"\n      }\n    }\n  ]\n}"
            }
          },
          "metadata": {},
          "execution_count": 41
        }
      ]
    },
    {
      "cell_type": "code",
      "source": [
        "user_data.values"
      ],
      "metadata": {
        "colab": {
          "base_uri": "https://localhost:8080/"
        },
        "id": "jFdCQid1TFHD",
        "outputId": "7b5ac17f-5a2b-4840-b150-3f7e8eb53c8b"
      },
      "execution_count": 42,
      "outputs": [
        {
          "output_type": "execute_result",
          "data": {
            "text/plain": [
              "array([[     1,      0,      0, 162597, 151377, 443898]])"
            ]
          },
          "metadata": {},
          "execution_count": 42
        }
      ]
    },
    {
      "cell_type": "code",
      "source": [
        "import warnings\n",
        "warnings.filterwarnings('ignore')\n",
        "\n",
        "predict_profit = mlr.predict(user_data)\n",
        "print(\"Profit For Startup Will Be :\",int(predict_profit[0]))"
      ],
      "metadata": {
        "colab": {
          "base_uri": "https://localhost:8080/"
        },
        "id": "JjuUJVZSVHV0",
        "outputId": "5cf40ba2-be5d-469f-cf59-388d66122424"
      },
      "execution_count": 44,
      "outputs": [
        {
          "output_type": "stream",
          "name": "stdout",
          "text": [
            "Profit For Startup Will Be : 189547\n"
          ]
        }
      ]
    },
    {
      "cell_type": "code",
      "source": [],
      "metadata": {
        "id": "7KkfAs7lv7Kn"
      },
      "execution_count": 44,
      "outputs": []
    }
  ]
}