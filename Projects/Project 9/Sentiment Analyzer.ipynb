{
 "cells": [
  {
   "cell_type": "markdown",
   "id": "08acb23c-2b6b-417a-ae83-bc32f7a9e6ed",
   "metadata": {},
   "source": [
    "## Sentiment Analysis of Amazon Product Reviews using NLTK."
   ]
  },
  {
   "cell_type": "markdown",
   "id": "35b101ed-34f2-4b43-87c8-dd6958abca03",
   "metadata": {},
   "source": [
    "### Harshan Attar"
   ]
  },
  {
   "cell_type": "code",
   "execution_count": 13,
   "id": "bd1c180d-22e1-4306-a0fa-1c188f0ca8aa",
   "metadata": {},
   "outputs": [
    {
     "name": "stdout",
     "output_type": "stream",
     "text": [
      "Requirement already satisfied: textblob in c:\\users\\harshan attar\\appdata\\roaming\\python\\python312\\site-packages (0.18.0.post0)\n",
      "Requirement already satisfied: nltk>=3.8 in c:\\python312\\lib\\site-packages (from textblob) (3.8.1)\n",
      "Requirement already satisfied: click in c:\\python312\\lib\\site-packages (from nltk>=3.8->textblob) (8.1.7)\n",
      "Requirement already satisfied: joblib in c:\\python312\\lib\\site-packages (from nltk>=3.8->textblob) (1.3.2)\n",
      "Requirement already satisfied: regex>=2021.8.3 in c:\\python312\\lib\\site-packages (from nltk>=3.8->textblob) (2023.12.25)\n",
      "Requirement already satisfied: tqdm in c:\\python312\\lib\\site-packages (from nltk>=3.8->textblob) (4.66.2)\n",
      "Requirement already satisfied: colorama in c:\\users\\harshan attar\\appdata\\roaming\\python\\python312\\site-packages (from click->nltk>=3.8->textblob) (0.4.6)\n"
     ]
    },
    {
     "name": "stderr",
     "output_type": "stream",
     "text": [
      "\n",
      "[notice] A new release of pip is available: 23.3.2 -> 24.0\n",
      "[notice] To update, run: python.exe -m pip install --upgrade pip\n"
     ]
    }
   ],
   "source": [
    "!pip install --user textblob"
   ]
  },
  {
   "cell_type": "code",
   "execution_count": 6,
   "id": "ac383422",
   "metadata": {},
   "outputs": [
    {
     "name": "stdout",
     "output_type": "stream",
     "text": [
      "Requirement already satisfied: vaderSentiment in c:\\python312\\lib\\site-packages (3.3.2)\n",
      "Requirement already satisfied: requests in c:\\users\\harshan attar\\appdata\\roaming\\python\\python312\\site-packages (from vaderSentiment) (2.31.0)\n",
      "Requirement already satisfied: charset-normalizer<4,>=2 in c:\\users\\harshan attar\\appdata\\roaming\\python\\python312\\site-packages (from requests->vaderSentiment) (3.3.2)\n",
      "Requirement already satisfied: idna<4,>=2.5 in c:\\users\\harshan attar\\appdata\\roaming\\python\\python312\\site-packages (from requests->vaderSentiment) (3.6)\n",
      "Requirement already satisfied: urllib3<3,>=1.21.1 in c:\\users\\harshan attar\\appdata\\roaming\\python\\python312\\site-packages (from requests->vaderSentiment) (2.1.0)\n",
      "Requirement already satisfied: certifi>=2017.4.17 in c:\\users\\harshan attar\\appdata\\roaming\\python\\python312\\site-packages (from requests->vaderSentiment) (2023.11.17)\n"
     ]
    },
    {
     "name": "stderr",
     "output_type": "stream",
     "text": [
      "\n",
      "[notice] A new release of pip is available: 23.3.2 -> 24.0\n",
      "[notice] To update, run: python.exe -m pip install --upgrade pip\n"
     ]
    }
   ],
   "source": [
    "!pip install vaderSentiment"
   ]
  },
  {
   "cell_type": "code",
   "execution_count": 7,
   "id": "f48f68aa",
   "metadata": {},
   "outputs": [],
   "source": [
    "from tkinter import *\n",
    "from textblob import TextBlob\n",
    "from vaderSentiment.vaderSentiment import SentimentIntensityAnalyzer\n",
    "sid_obj = SentimentIntensityAnalyzer()"
   ]
  },
  {
   "cell_type": "code",
   "execution_count": 8,
   "id": "7010373f",
   "metadata": {},
   "outputs": [],
   "source": [
    "# create app \n",
    "\n",
    "window = Tk() # create app window\n",
    "window.geometry('600x400') #size of app window\n",
    "window.config(bg='#DFDCDC') #color of app window\n",
    "window.title('Sentiment Analyzer')\n",
    "window.resizable(width=False,height=False)\n",
    "\n",
    "displayResult = StringVar()\n",
    "\n",
    "# 4.) event handling\n",
    "\n",
    "def check_sentiment():\n",
    "    user_input = inputText_field.get()\n",
    "    \n",
    "    res = TextBlob(user_input)\n",
    "    res = sid_obj.polarity_scores(res)\n",
    "    \n",
    "    if res['compound'] >= 0.05:\n",
    "        displayResult.set('Positive')\n",
    "        inputText_field.delete(0,END)\n",
    "    elif res['compound'] <= -0.05:\n",
    "        displayResult.set('Negative')\n",
    "        inputText_field.delete(0,END)\n",
    "    else:\n",
    "        displayResult.set('Neutral')\n",
    "        inputText_field.delete(0,END)\n",
    "\n",
    "# 2.) create widgets\n",
    "\n",
    "title = Label(window,text='Please Insert your Sentiments',fg='#000000',\n",
    "             bg='#DFDCDC',font=('Anitique Olive',16))\n",
    "\n",
    "inputText_field = Entry(window,font=('Arial',12))\n",
    "button1 = Button(window,text='Classify Text',fg='#FAFAFA',\n",
    "             bg='#24C6D3',font=('Arial',16),command=check_sentiment)\n",
    "outputLabel = Label(window,fg='#D32E24',\n",
    "             bg='#DFDCDC',font=('Arial',16),textvariable=displayResult)\n",
    "\n",
    "# 3.) place widgets\n",
    "title.place(x=160,y=50)\n",
    "inputText_field.place(x=210,y=120)\n",
    "button1.place(x=233,y=150)\n",
    "outputLabel.place(x=260,y=230)\n",
    "\n",
    "window.mainloop()"
   ]
  },
  {
   "cell_type": "code",
   "execution_count": null,
   "id": "af5c8db7-6f6b-4af0-abc6-f52d50ae6e67",
   "metadata": {},
   "outputs": [],
   "source": []
  }
 ],
 "metadata": {
  "kernelspec": {
   "display_name": "Python 3 (ipykernel)",
   "language": "python",
   "name": "python3"
  },
  "language_info": {
   "codemirror_mode": {
    "name": "ipython",
    "version": 3
   },
   "file_extension": ".py",
   "mimetype": "text/x-python",
   "name": "python",
   "nbconvert_exporter": "python",
   "pygments_lexer": "ipython3",
   "version": "3.12.1"
  }
 },
 "nbformat": 4,
 "nbformat_minor": 5
}
