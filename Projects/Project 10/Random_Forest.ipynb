{
 "cells": [
  {
   "cell_type": "markdown",
   "id": "b511d7af-691d-4ebb-9c43-1049e419fc9e",
   "metadata": {},
   "source": [
    "## Possum Species Classification Using Random Forest Algorithm"
   ]
  },
  {
   "cell_type": "markdown",
   "id": "8ff9ec5c-205a-4da4-8656-8437575817a6",
   "metadata": {},
   "source": [
    "### Harshan Attar"
   ]
  },
  {
   "cell_type": "code",
   "execution_count": 5,
   "id": "bcf23688",
   "metadata": {},
   "outputs": [],
   "source": [
    "import pandas as pd\n",
    "import matplotlib.pyplot as mat\n",
    "from sklearn.model_selection import train_test_split\n",
    "from sklearn.ensemble import RandomForestClassifier\n",
    "from sklearn.metrics import confusion_matrix , accuracy_score\n",
    "import warnings\n",
    "warnings.filterwarnings('ignore')"
   ]
  },
  {
   "cell_type": "code",
   "execution_count": null,
   "id": "d3e97753-6903-4ba7-b7c1-2a00d9509925",
   "metadata": {},
   "outputs": [],
   "source": [
    "data = pd.read_csv(r\"C:\\Users\\Harshan Attar\\Downloads\\possum.csv\")\n",
    "data"
   ]
  },
  {
   "cell_type": "code",
   "execution_count": null,
   "id": "05b47941",
   "metadata": {},
   "outputs": [],
   "source": [
    "data.shape"
   ]
  },
  {
   "cell_type": "code",
   "execution_count": null,
   "id": "803cc47e",
   "metadata": {},
   "outputs": [],
   "source": [
    "# deleted missing data\n",
    "data = data.dropna()"
   ]
  },
  {
   "cell_type": "code",
   "execution_count": null,
   "id": "6ac00671",
   "metadata": {},
   "outputs": [],
   "source": [
    "data.shape"
   ]
  },
  {
   "cell_type": "code",
   "execution_count": null,
   "id": "db73e879",
   "metadata": {},
   "outputs": [],
   "source": [
    "x = data.drop(['case','site','Pop','sex'],axis=1)\n",
    "x.head()"
   ]
  },
  {
   "cell_type": "code",
   "execution_count": null,
   "id": "cc9e5e58",
   "metadata": {},
   "outputs": [],
   "source": [
    "y = data['sex']\n",
    "y.head()"
   ]
  },
  {
   "cell_type": "code",
   "execution_count": null,
   "id": "3f9305cc",
   "metadata": {},
   "outputs": [],
   "source": [
    "x_train , x_test ,y_train, y_test = train_test_split(x,y,test_size=0.3,random_state=44)"
   ]
  },
  {
   "cell_type": "code",
   "execution_count": null,
   "id": "c0956014",
   "metadata": {},
   "outputs": [],
   "source": [
    "Rand_model = RandomForestClassifier(n_estimators=50,max_features='sqrt',random_state=44)\n",
    "Rand_model.fit(x_train,y_train)"
   ]
  },
  {
   "cell_type": "code",
   "execution_count": null,
   "id": "92ba0036",
   "metadata": {},
   "outputs": [],
   "source": [
    "prediction = Rand_model.predict(x_test)\n",
    "prediction"
   ]
  },
  {
   "cell_type": "code",
   "execution_count": null,
   "id": "d1045615",
   "metadata": {},
   "outputs": [],
   "source": [
    "cm = confusion_matrix(y_test,prediction)\n",
    "cm"
   ]
  },
  {
   "cell_type": "code",
   "execution_count": null,
   "id": "35172599",
   "metadata": {},
   "outputs": [],
   "source": [
    "acc = accuracy_score(y_test,prediction)\n",
    "print('Accuracy',acc)"
   ]
  },
  {
   "cell_type": "code",
   "execution_count": null,
   "id": "78d6d4f9",
   "metadata": {},
   "outputs": [],
   "source": [
    "importance = Rand_model.feature_importances_\n",
    "columns = x.columns\n",
    "i = 0\n",
    "\n",
    "while i<len(columns):\n",
    "    print(f'The importance of Feature {columns[i]} is {round(importance[i]*100,2)}%.')\n",
    "    i += 1"
   ]
  },
  {
   "cell_type": "code",
   "execution_count": null,
   "id": "3aa8c705",
   "metadata": {},
   "outputs": [],
   "source": [
    "feature_importance = pd.Series(Rand_model.feature_importances_,index=x.columns).sort_values(ascending=False)\n",
    "feature_importance.plot.bar()"
   ]
  },
  {
   "cell_type": "code",
   "execution_count": null,
   "id": "d1bad653",
   "metadata": {
    "scrolled": true
   },
   "outputs": [],
   "source": [
    "x_train.head()"
   ]
  },
  {
   "cell_type": "code",
   "execution_count": null,
   "id": "2409c8c9",
   "metadata": {},
   "outputs": [],
   "source": [
    "y_train.head()"
   ]
  },
  {
   "cell_type": "code",
   "execution_count": null,
   "id": "f885a1b6",
   "metadata": {},
   "outputs": [],
   "source": [
    "possum = [[2.0,91.5,56.3,85.5,36.0,71.0,53.2,15.1,28.5,33.0]]\n",
    "Rand_model.predict(possum)"
   ]
  }
 ],
 "metadata": {
  "kernelspec": {
   "display_name": "Python 3 (ipykernel)",
   "language": "python",
   "name": "python3"
  },
  "language_info": {
   "codemirror_mode": {
    "name": "ipython",
    "version": 3
   },
   "file_extension": ".py",
   "mimetype": "text/x-python",
   "name": "python",
   "nbconvert_exporter": "python",
   "pygments_lexer": "ipython3",
   "version": "3.12.1"
  }
 },
 "nbformat": 4,
 "nbformat_minor": 5
}
